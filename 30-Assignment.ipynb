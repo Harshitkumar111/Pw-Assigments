{
 "cells": [
  {
   "cell_type": "code",
   "execution_count": 1,
   "id": "1000cb3d-a9f0-462e-a943-835029681f98",
   "metadata": {},
   "outputs": [],
   "source": [
    "#who developed the python programming language?\n",
    "#Ans- Guido van Rossum "
   ]
  },
  {
   "cell_type": "code",
   "execution_count": 2,
   "id": "55e8a188-3e67-4852-bb73-53306c28f4e1",
   "metadata": {},
   "outputs": [],
   "source": [
    "#which type of programming does python support?\n",
    "#Ans- Python is a multi-paradigm programming language. Object-oriented programming and structured programming are fully supported."
   ]
  },
  {
   "cell_type": "code",
   "execution_count": 3,
   "id": "d215ed46-77a2-4cec-b8c2-bc14f31f4e98",
   "metadata": {},
   "outputs": [],
   "source": [
    "#is python case sensitive when dealing with identifiers?\n",
    "#Ans- Yes, python is case-sensitive language."
   ]
  },
  {
   "cell_type": "code",
   "execution_count": 4,
   "id": "446558a8-a398-4886-83ae-f5712e8cb7b7",
   "metadata": {},
   "outputs": [],
   "source": [
    "#what is the correct extension of the python file?\n",
    "#Ans- .py"
   ]
  },
  {
   "cell_type": "code",
   "execution_count": 5,
   "id": "73d11ef8-5dfe-461b-8d00-27130ef8b0d7",
   "metadata": {},
   "outputs": [],
   "source": [
    "#is python code compiled or interpreted?\n",
    "#Ans- python is an interpreted language."
   ]
  },
  {
   "cell_type": "code",
   "execution_count": 6,
   "id": "84923d97-39c8-454b-b9da-62f263281079",
   "metadata": {},
   "outputs": [],
   "source": [
    "#name a few blocks of code used to define in python language?\n",
    "#Ans- a module, a function body, and a class definition braces{}."
   ]
  },
  {
   "cell_type": "code",
   "execution_count": 7,
   "id": "508061a7-665b-4430-8369-d30da39cb1cb",
   "metadata": {},
   "outputs": [],
   "source": [
    "#state a character used to give single-line comments in python?\n",
    "#Ans- used to give single-line comment in python is # character."
   ]
  },
  {
   "cell_type": "code",
   "execution_count": 8,
   "id": "de55c6fb-d00b-45a1-b381-a9b76e37031d",
   "metadata": {},
   "outputs": [],
   "source": [
    "#mention functions which can help us to find the version of python that we are currently working on?\n",
    "#Ans- The function sys. version can help us to find the version of python that we are currently working on."
   ]
  },
  {
   "cell_type": "code",
   "execution_count": 9,
   "id": "12526e5f-52b8-4d56-861b-da6e90287175",
   "metadata": {},
   "outputs": [],
   "source": [
    "#python supports the creation of anonymous function at runtime using a construct called is\n",
    "#lambda"
   ]
  },
  {
   "cell_type": "code",
   "execution_count": 10,
   "id": "48c0b477-2483-45fa-9cf3-271dbebf6310",
   "metadata": {},
   "outputs": [],
   "source": [
    "#what does pip stand for python?\n",
    "#Ans- preferred installer program."
   ]
  },
  {
   "cell_type": "code",
   "execution_count": 11,
   "id": "67e49400-dc39-492f-b201-79d63917f1b7",
   "metadata": {},
   "outputs": [],
   "source": [
    "#mention a few built-in function in python?\n",
    "#Ans- int , str, float , append , index , sort , len , pop ,remove , insert , keys , print , type , etc.  "
   ]
  },
  {
   "cell_type": "code",
   "execution_count": 12,
   "id": "b3444480-a758-417f-8838-28ccf48e1fd2",
   "metadata": {},
   "outputs": [],
   "source": [
    "#what is the maximum possible length of an identifier in python?\n",
    "#Ans- 79 character "
   ]
  },
  {
   "cell_type": "code",
   "execution_count": 13,
   "id": "98b95fa8-2fb8-4e92-9616-ac425dda83eb",
   "metadata": {},
   "outputs": [],
   "source": [
    "#what are the benefits of using python?\n",
    "#Ans- data science , basic game development, web development , computer graphics , etc."
   ]
  },
  {
   "cell_type": "code",
   "execution_count": 14,
   "id": "19d112ec-58cf-41f0-848c-46c438d34b0b",
   "metadata": {},
   "outputs": [],
   "source": [
    "#how is memory managed in python?\n",
    "#Ans- involves a private heap containing all Python objects and data structures."
   ]
  },
  {
   "cell_type": "code",
   "execution_count": 15,
   "id": "4944f057-e5d7-40db-af9c-a622ab3f177a",
   "metadata": {},
   "outputs": [
    {
     "data": {
      "text/plain": [
       "'Right-clicking This PC and going to Properties\\n\\nClicking on the Advanced system settings in the menu on the left.\\n\\nClicking on the Environment Variables button on the bottom right.\\n\\nIn the System variables section, selecting the Path variable and clicking on Edit. The next screen will show all the directories that are currently a part of the PATH variable.\\n\\nClicking on New and entering Python’s install directory'"
      ]
     },
     "execution_count": 15,
     "metadata": {},
     "output_type": "execute_result"
    }
   ],
   "source": [
    "#how to install python on windows and set path variables?\n",
    "'''Right-clicking This PC and going to Properties\n",
    "\n",
    "Clicking on the Advanced system settings in the menu on the left.\n",
    "\n",
    "Clicking on the Environment Variables button on the bottom right.\n",
    "\n",
    "In the System variables section, selecting the Path variable and clicking on Edit. The next screen will show all the directories that are currently a part of the PATH variable.\n",
    "\n",
    "Clicking on New and entering Python’s install directory'''"
   ]
  },
  {
   "cell_type": "code",
   "execution_count": 16,
   "id": "ceefb722-9b49-45e5-86af-4a897c42be6b",
   "metadata": {},
   "outputs": [
    {
     "ename": "SyntaxError",
     "evalue": "incomplete input (2650625097.py, line 2)",
     "output_type": "error",
     "traceback": [
      "\u001b[0;36m  Cell \u001b[0;32mIn[16], line 2\u001b[0;36m\u001b[0m\n\u001b[0;31m    '''Indentation refers to the spaces at the beginning of a code line. Where in other programming languages the indentation in code is for readability o\u001b[0m\n\u001b[0m    ^\u001b[0m\n\u001b[0;31mSyntaxError\u001b[0m\u001b[0;31m:\u001b[0m incomplete input\n"
     ]
    }
   ],
   "source": [
    "#is indentation required in python?\n",
    "'''Indentation refers to the spaces at the beginning of a code line. Where in other programming languages the indentation in code is for readability o"
   ]
  },
  {
   "cell_type": "code",
   "execution_count": 17,
   "id": "f431ffb4-ebe1-477f-89da-99420d811667",
   "metadata": {},
   "outputs": [
    {
     "data": {
      "text/plain": [
       "'Indentation refers to the spaces at the beginning of a code line. Where in other programming languages the indentation in code is for readability only, the indentation in Python is very important. Python uses indentation to indicate a block of code.'"
      ]
     },
     "execution_count": 17,
     "metadata": {},
     "output_type": "execute_result"
    }
   ],
   "source": [
    "#is indentation required in python?\n",
    "'''Indentation refers to the spaces at the beginning of a code line. Where in other programming languages the indentation in code is for readability only, the indentation in Python is very important. Python uses indentation to indicate a block of code.'''"
   ]
  },
  {
   "cell_type": "code",
   "execution_count": null,
   "id": "15f7d7c2-2fc4-4c85-b29d-9f5972a50300",
   "metadata": {},
   "outputs": [],
   "source": []
  }
 ],
 "metadata": {
  "kernelspec": {
   "display_name": "Python 3 (ipykernel)",
   "language": "python",
   "name": "python3"
  },
  "language_info": {
   "codemirror_mode": {
    "name": "ipython",
    "version": 3
   },
   "file_extension": ".py",
   "mimetype": "text/x-python",
   "name": "python",
   "nbconvert_exporter": "python",
   "pygments_lexer": "ipython3",
   "version": "3.10.8"
  }
 },
 "nbformat": 4,
 "nbformat_minor": 5
}
