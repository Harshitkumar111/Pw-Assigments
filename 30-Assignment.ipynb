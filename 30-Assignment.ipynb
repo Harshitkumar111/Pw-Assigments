{
 "cells": [
  {
   "cell_type": "code",
   "execution_count": 1,
   "id": "d82446c0-4483-406f-94d0-c0054c8b4456",
   "metadata": {},
   "outputs": [],
   "source": [
    "#Ques-1 write a program to accept percentage from the user and display the grade according to the following criteria.\n",
    "#marks       grade\n",
    "#>90           A\n",
    "#>80and<=90    B\n",
    "#>=60and<=80   C\n",
    "#below 60      D"
   ]
  },
  {
   "cell_type": "code",
   "execution_count": 2,
   "id": "1e625059-e223-4a7c-837e-770c9043510e",
   "metadata": {},
   "outputs": [
    {
     "name": "stdin",
     "output_type": "stream",
     "text": [
      "enter your marks 85\n"
     ]
    },
    {
     "name": "stdout",
     "output_type": "stream",
     "text": [
      "you will be a part of B batch\n"
     ]
    }
   ],
   "source": [
    "#ans-1\n",
    "marks=int(input(\"enter your marks\"))\n",
    "if marks >90:\n",
    "    print(\"you will be a part of A batch\")\n",
    "elif marks >80 and marks <=90:\n",
    "    print(\"you will be a part of B batch\")\n",
    "elif marks >=60 and marks <=80: \n",
    "    print(\"you will be a part of C batch\")\n",
    "else : \n",
    "    print(\"you will be a part of D batch\")"
   ]
  },
  {
   "cell_type": "code",
   "execution_count": 3,
   "id": "2c81192e-6901-46dd-9089-3766d4f77d04",
   "metadata": {},
   "outputs": [
    {
     "name": "stdin",
     "output_type": "stream",
     "text": [
      "enter your cost 800000\n"
     ]
    },
    {
     "name": "stdout",
     "output_type": "stream",
     "text": [
      "you will charge 15% tax\n"
     ]
    }
   ],
   "source": [
    "#Ques-2\n",
    "cost=int(input(\"enter your cost\"))\n",
    "if cost > 100000:\n",
    "    print(\"you will charge 15% tax\")\n",
    "elif cost >50000 and cost <=100000:\n",
    "    print(\"you will charge 10% tax\")\n",
    "elif cost <=50000:\n",
    "    print(\"you will charge 5% tax\")\n",
    "else :\n",
    "    print (\"you will charge 0% tax\")"
   ]
  },
  {
   "cell_type": "code",
   "execution_count": 4,
   "id": "92d8c030-b308-45f8-b974-edf46b7e782e",
   "metadata": {},
   "outputs": [
    {
     "name": "stdin",
     "output_type": "stream",
     "text": [
      "enter city name jaipur\n"
     ]
    },
    {
     "name": "stdout",
     "output_type": "stream",
     "text": [
      "monuments is jal mahal\n"
     ]
    }
   ],
   "source": [
    "#Ques-3\n",
    "city=str(input(\"enter city name\"))\n",
    "if city == 'delhi':\n",
    "    print(\"monuments is red fort\")\n",
    "elif city == \"agra\":\n",
    "    print(\"monuments is taj mahal\")\n",
    "elif city == \"jaipur\":\n",
    "    print(\"monuments is jal mahal\")\n",
    "else :\n",
    "    pass"
   ]
  },
  {
   "cell_type": "code",
   "execution_count": 5,
   "id": "407a3180-4577-4bb2-9dbf-d5d4a9437d76",
   "metadata": {},
   "outputs": [
    {
     "name": "stdin",
     "output_type": "stream",
     "text": [
      "enter number= 9\n"
     ]
    },
    {
     "name": "stdout",
     "output_type": "stream",
     "text": [
      "number of times= 0\n"
     ]
    }
   ],
   "source": [
    "#Ques-4\n",
    "num=int(input(\"enter number=\"))\n",
    "count=0\n",
    "while num>10:\n",
    "        num=num/3;\n",
    "        count+=1\n",
    "print('number of times=',count)"
   ]
  },
  {
   "cell_type": "code",
   "execution_count": 2,
   "id": "7ea05682-bfab-48e5-9520-d85cf95fd8bf",
   "metadata": {},
   "outputs": [
    {
     "name": "stdout",
     "output_type": "stream",
     "text": [
      "1\n",
      "2\n",
      "3\n",
      "4\n",
      "5\n"
     ]
    }
   ],
   "source": [
    "#Ques-5- why and when to use while loop in python give a detailed description with example.\n",
    "# Ans-5-Python while loop is used to run a block code until a certain condition is met. Here, A while loop evaluates the condition. If the condition evaluates to True , the code inside the while loop is executed.\n",
    "# EX-program to display numbers from 1 to 5\n",
    "\n",
    "# initialize the variable\n",
    "i = 1\n",
    "n = 5\n",
    "\n",
    "# while loop from i = 1 to 5\n",
    "while i <= n:\n",
    "    print(i)\n",
    "    i = i + 1"
   ]
  },
  {
   "cell_type": "code",
   "execution_count": 13,
   "id": "453ea745-5ac9-4cbd-acd3-565d89802d4c",
   "metadata": {},
   "outputs": [
    {
     "name": "stdout",
     "output_type": "stream",
     "text": [
      "12345678 \n",
      "1234567 \n",
      "123456 \n",
      "12345 \n",
      "1234 \n",
      "123 \n",
      "12 \n",
      "1 \n"
     ]
    }
   ],
   "source": [
    "# Ques-6-use nested while loop to print 3 different pattern.\n",
    "#pattern_1\n",
    "e=8\n",
    "while e>=1:\n",
    "    f=1\n",
    "    while f<=e:\n",
    "        print(f,end='')\n",
    "        f=f+1\n",
    "    print(\" \")\n",
    "    e=e-1"
   ]
  },
  {
   "cell_type": "code",
   "execution_count": 8,
   "id": "0dc7b3ae-ee2a-43a9-b374-ee3b9e2d2142",
   "metadata": {},
   "outputs": [
    {
     "name": "stdout",
     "output_type": "stream",
     "text": [
      "1 \n",
      "12 \n",
      "123 \n",
      "1234 \n",
      "12345 \n",
      "123456 \n",
      "1234567 \n"
     ]
    }
   ],
   "source": [
    "#pattern_2\n",
    "i=1\n",
    "while i<=7:\n",
    "    l=1\n",
    "    while (l<=i):\n",
    "        print(l,end='')\n",
    "        l=l+1\n",
    "    print(\" \")\n",
    "    i=i+1"
   ]
  },
  {
   "cell_type": "code",
   "execution_count": 9,
   "id": "ab22b817-8ec7-4357-93db-3cc71a05f4c4",
   "metadata": {},
   "outputs": [
    {
     "name": "stdout",
     "output_type": "stream",
     "text": [
      "*1,2*1,2*1,2*1,2*1,2*1,2*1,2*1,2*1,2\n",
      "*1,2*1,2*1,2*1,2*1,2*1,2*1,2*1,2*1,2\n",
      "*1,2*1,2*1,2*1,2*1,2*1,2*1,2*1,2*1,2\n",
      "*1,2*1,2*1,2*1,2*1,2*1,2*1,2*1,2*1,2\n",
      "*1,2*1,2*1,2*1,2*1,2*1,2*1,2*1,2*1,2\n",
      "*1,2*1,2*1,2*1,2*1,2*1,2*1,2*1,2*1,2\n",
      "*1,2*1,2*1,2*1,2*1,2*1,2*1,2*1,2*1,2\n",
      "*1,2*1,2*1,2*1,2*1,2*1,2*1,2*1,2*1,2\n",
      "*1,2*1,2*1,2*1,2*1,2*1,2*1,2*1,2*1,2\n"
     ]
    }
   ],
   "source": [
    "#initialize variables \n",
    "i=1\n",
    "j=1\n",
    "#while loop\n",
    "while i<10:\n",
    "    #nested while\n",
    "    while j<10:\n",
    "        #printed star with 1,2 it\n",
    "        print(\"*\",end=\"1,2\")\n",
    "        #increment j by 1\n",
    "        j+=1\n",
    "    #print new line\n",
    "    print()\n",
    "    #reset value of j\n",
    "    j=1\n",
    "    #increment value of i by 1\n",
    "    i+=1"
   ]
  },
  {
   "cell_type": "code",
   "execution_count": 10,
   "id": "ba74e180-465a-4efd-824b-14194e069adb",
   "metadata": {},
   "outputs": [
    {
     "name": "stdout",
     "output_type": "stream",
     "text": [
      "10\n",
      "9\n",
      "8\n",
      "7\n",
      "6\n",
      "5\n",
      "4\n",
      "3\n",
      "2\n",
      "1\n",
      "0\n"
     ]
    }
   ],
   "source": [
    "#Ques_7- reverse a while loop to display the number from 10 to 1.\n",
    "#Ans-7\n",
    "num_1=10\n",
    "num_2=0\n",
    "while num_1>=num_2:\n",
    "    print(num_1)\n",
    "    num_1-=1"
   ]
  },
  {
   "cell_type": "code",
   "execution_count": 12,
   "id": "ba2f7db7-b5af-43d4-bb0d-5be0441ca043",
   "metadata": {},
   "outputs": [
    {
     "name": "stdout",
     "output_type": "stream",
     "text": [
      "10\n",
      "9\n",
      "8\n",
      "7\n",
      "6\n",
      "5\n",
      "4\n",
      "3\n",
      "2\n",
      "1\n"
     ]
    }
   ],
   "source": [
    "#Quse_8- reverse a while loop to display numbers from 10 to 1\n",
    "#Ans_8-\n",
    "TEN=1\n",
    "ONE=10\n",
    "while ONE>=TEN:\n",
    "    print(ONE)\n",
    "    ONE-=1"
   ]
  },
  {
   "cell_type": "code",
   "execution_count": null,
   "id": "e27a87c8-ea31-42c8-a8d5-4415f43471c2",
   "metadata": {},
   "outputs": [],
   "source": []
  }
 ],
 "metadata": {
  "kernelspec": {
   "display_name": "Python 3 (ipykernel)",
   "language": "python",
   "name": "python3"
  },
  "language_info": {
   "codemirror_mode": {
    "name": "ipython",
    "version": 3
   },
   "file_extension": ".py",
   "mimetype": "text/x-python",
   "name": "python",
   "nbconvert_exporter": "python",
   "pygments_lexer": "ipython3",
   "version": "3.10.8"
  }
 },
 "nbformat": 4,
 "nbformat_minor": 5
}
